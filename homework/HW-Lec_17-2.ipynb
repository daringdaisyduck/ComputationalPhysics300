{
 "cells": [
  {
   "cell_type": "markdown",
   "metadata": {},
   "source": [
    "\n",
    "## 17.5 Homework\n",
    "\n",
    "Write a program to find the ground state of LJ potential for N=3 (assuming $\\epsilon$ = $\\sigma$ = 1)"
   ]
  },
  {
   "cell_type": "code",
   "execution_count": 60,
   "metadata": {},
   "outputs": [],
   "source": [
    "#First we define the LJ potential.\n",
    "def LJ(r):\n",
    "    r6 = r**6\n",
    "    r12 = r6*r6\n",
    "    return 4*(1/r12 - 1/r6)"
   ]
  },
  {
   "cell_type": "code",
   "execution_count": 61,
   "metadata": {},
   "outputs": [],
   "source": [
    "#Import relevant library\n",
    "import numpy as np\n",
    "\n",
    "def Total_Energy(positions):\n",
    "    E = 0\n",
    "    N_atom = int(len(positions)/3)\n",
    "\n",
    "#For loop to calculate distances between atoms and then inputs the calculated distances into\n",
    "#the LJ potential.\n",
    "    for i in range(N_atom - 1):\n",
    "        for j in range(i + 1, N_atom):\n",
    "            pos1 = positions[i*3:(i+1)*3]\n",
    "            pos2 = positions[j*3:(j+1)*3]\n",
    "            dist = np.linalg.norm(pos1 - pos2)\n",
    "            E += LJ(dist)\n",
    "    return E\n",
    "\n",
    "#We define our initial positions.\n",
    "def init(N, L=5):\n",
    "    return L*np.random.random_sample((N*3,))\n",
    "\n",
    "position = init(3)"
   ]
  },
  {
   "cell_type": "code",
   "execution_count": 62,
   "metadata": {},
   "outputs": [
    {
     "name": "stdout",
     "output_type": "stream",
     "text": [
      "Total energy =  -2.99999999999996\n"
     ]
    }
   ],
   "source": [
    "#minimize returns a scalar from an array\n",
    "from scipy.optimize import minimize\n",
    "\n",
    "res = minimize(Total_Energy, position, method='CG', tol=1e-4)\n",
    "\n",
    "print(\"Total energy = \", state.fun)"
   ]
  }
 ],
 "metadata": {
  "kernelspec": {
   "display_name": "Python 3",
   "language": "python",
   "name": "python3"
  },
  "language_info": {
   "codemirror_mode": {
    "name": "ipython",
    "version": 3
   },
   "file_extension": ".py",
   "mimetype": "text/x-python",
   "name": "python",
   "nbconvert_exporter": "python",
   "pygments_lexer": "ipython3",
   "version": "3.7.6"
  }
 },
 "nbformat": 4,
 "nbformat_minor": 4
}
